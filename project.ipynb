{
 "cells": [
  {
   "cell_type": "markdown",
   "id": "6ce82ef7-a9cd-488d-8097-0ee0fe36819f",
   "metadata": {},
   "source": [
    "# What Causes Heart Disease "
   ]
  },
  {
   "cell_type": "markdown",
   "id": "32ef346d-3c56-4a3d-9b50-b0d5bee96a2d",
   "metadata": {},
   "source": [
    "## 1. Data description\n",
    "Dataset: https://www.kaggle.com/ronitf/heart-disease-uci"
   ]
  },
  {
   "cell_type": "markdown",
   "id": "4f0df884-b4ad-4d79-9907-15a4daf4463a",
   "metadata": {},
   "source": [
    "This database contains 76 attributes, but all published experiments refer to using a subset of 14 of them. In particular, the Cleveland database is the only one that has been used by ML researchers to\n",
    "this date. **The \"goal\" field refers to the presence of heart disease in the patient. It is integer valued from 0 (no presence) to 4.**"
   ]
  },
  {
   "cell_type": "markdown",
   "id": "5674f6ec-3744-4310-81ea-3f06cc1bbbea",
   "metadata": {},
   "source": [
    "Attribute Information:\n",
    "- age  \n",
    "- sex  (1 = male, 0 = female)\n",
    "- cp: chest pain type (1 = typical angina, 2 = atypical angina, 3 = non-anginal pain, 4 = asymptomatic)\n",
    "- trestbps:  resting blood pressure  静息血压\n",
    "- chol: serum cholestoral in mg/dl 血清胆固醇 \n",
    "- fbs: fasting blood sugar (> 120 mg/dl, 1 = true; 0 = false)  空腹血糖\n",
    "- restecg: resting electrocardiographic results (0 = normal, 1 = having ST-T wave abnormality, 2 = showing probable or definite left ventricular hypertrophy by Estes' criteria)  静息心电图结果 \n",
    "- thalach: maximum heart rate achieved  最大心率 \n",
    "- exang: exercise induced angina(1 = yes; 0 = no)  运动性心绞痛 \n",
    "- oldpeak = ST depression induced by exercise relative to rest  运动引起的 ST 压降低\n",
    "- slope: the slope of the peak exercise ST segment(1 = upsloping, 2 = flat, 3 = downsloping)   运动高峰ST段的坡度\n",
    "- ca: number of major vessels (0-3) colored by flourosopy  主要血管数量\n",
    "- thal: thalassemia (1 = normal; 2 = fixed defect; 3 = reversable defect)地中海贫血 \n",
    "- target: Heart disease (0 = no, 1 = yes)"
   ]
  },
  {
   "cell_type": "markdown",
   "id": "4eb617cb-366a-49c0-860e-8ecf9a32537b",
   "metadata": {},
   "source": [
    "## 2. Load & Explore the dataset"
   ]
  },
  {
   "cell_type": "code",
   "execution_count": 4,
   "id": "66d60221-f981-4c5d-bdb4-e15eb3281e98",
   "metadata": {},
   "outputs": [],
   "source": [
    "import pandas as pd\n",
    "data = pd.read_csv(\"heart.csv\")\n",
    "df = data.copy()"
   ]
  },
  {
   "cell_type": "code",
   "execution_count": 5,
   "id": "a8b80f51-664d-4021-95fb-4e7e42c321f7",
   "metadata": {},
   "outputs": [
    {
     "data": {
      "text/html": [
       "<div>\n",
       "<style scoped>\n",
       "    .dataframe tbody tr th:only-of-type {\n",
       "        vertical-align: middle;\n",
       "    }\n",
       "\n",
       "    .dataframe tbody tr th {\n",
       "        vertical-align: top;\n",
       "    }\n",
       "\n",
       "    .dataframe thead th {\n",
       "        text-align: right;\n",
       "    }\n",
       "</style>\n",
       "<table border=\"1\" class=\"dataframe\">\n",
       "  <thead>\n",
       "    <tr style=\"text-align: right;\">\n",
       "      <th></th>\n",
       "      <th>age</th>\n",
       "      <th>sex</th>\n",
       "      <th>cp</th>\n",
       "      <th>trestbps</th>\n",
       "      <th>chol</th>\n",
       "      <th>fbs</th>\n",
       "      <th>restecg</th>\n",
       "      <th>thalach</th>\n",
       "      <th>exang</th>\n",
       "      <th>oldpeak</th>\n",
       "      <th>slope</th>\n",
       "      <th>ca</th>\n",
       "      <th>thal</th>\n",
       "      <th>target</th>\n",
       "    </tr>\n",
       "  </thead>\n",
       "  <tbody>\n",
       "    <tr>\n",
       "      <th>0</th>\n",
       "      <td>63</td>\n",
       "      <td>1</td>\n",
       "      <td>3</td>\n",
       "      <td>145</td>\n",
       "      <td>233</td>\n",
       "      <td>1</td>\n",
       "      <td>0</td>\n",
       "      <td>150</td>\n",
       "      <td>0</td>\n",
       "      <td>2.3</td>\n",
       "      <td>0</td>\n",
       "      <td>0</td>\n",
       "      <td>1</td>\n",
       "      <td>1</td>\n",
       "    </tr>\n",
       "    <tr>\n",
       "      <th>1</th>\n",
       "      <td>37</td>\n",
       "      <td>1</td>\n",
       "      <td>2</td>\n",
       "      <td>130</td>\n",
       "      <td>250</td>\n",
       "      <td>0</td>\n",
       "      <td>1</td>\n",
       "      <td>187</td>\n",
       "      <td>0</td>\n",
       "      <td>3.5</td>\n",
       "      <td>0</td>\n",
       "      <td>0</td>\n",
       "      <td>2</td>\n",
       "      <td>1</td>\n",
       "    </tr>\n",
       "    <tr>\n",
       "      <th>2</th>\n",
       "      <td>41</td>\n",
       "      <td>0</td>\n",
       "      <td>1</td>\n",
       "      <td>130</td>\n",
       "      <td>204</td>\n",
       "      <td>0</td>\n",
       "      <td>0</td>\n",
       "      <td>172</td>\n",
       "      <td>0</td>\n",
       "      <td>1.4</td>\n",
       "      <td>2</td>\n",
       "      <td>0</td>\n",
       "      <td>2</td>\n",
       "      <td>1</td>\n",
       "    </tr>\n",
       "    <tr>\n",
       "      <th>3</th>\n",
       "      <td>56</td>\n",
       "      <td>1</td>\n",
       "      <td>1</td>\n",
       "      <td>120</td>\n",
       "      <td>236</td>\n",
       "      <td>0</td>\n",
       "      <td>1</td>\n",
       "      <td>178</td>\n",
       "      <td>0</td>\n",
       "      <td>0.8</td>\n",
       "      <td>2</td>\n",
       "      <td>0</td>\n",
       "      <td>2</td>\n",
       "      <td>1</td>\n",
       "    </tr>\n",
       "    <tr>\n",
       "      <th>4</th>\n",
       "      <td>57</td>\n",
       "      <td>0</td>\n",
       "      <td>0</td>\n",
       "      <td>120</td>\n",
       "      <td>354</td>\n",
       "      <td>0</td>\n",
       "      <td>1</td>\n",
       "      <td>163</td>\n",
       "      <td>1</td>\n",
       "      <td>0.6</td>\n",
       "      <td>2</td>\n",
       "      <td>0</td>\n",
       "      <td>2</td>\n",
       "      <td>1</td>\n",
       "    </tr>\n",
       "  </tbody>\n",
       "</table>\n",
       "</div>"
      ],
      "text/plain": [
       "   age  sex  cp  trestbps  chol  fbs  restecg  thalach  exang  oldpeak  slope  \\\n",
       "0   63    1   3       145   233    1        0      150      0      2.3      0   \n",
       "1   37    1   2       130   250    0        1      187      0      3.5      0   \n",
       "2   41    0   1       130   204    0        0      172      0      1.4      2   \n",
       "3   56    1   1       120   236    0        1      178      0      0.8      2   \n",
       "4   57    0   0       120   354    0        1      163      1      0.6      2   \n",
       "\n",
       "   ca  thal  target  \n",
       "0   0     1       1  \n",
       "1   0     2       1  \n",
       "2   0     2       1  \n",
       "3   0     2       1  \n",
       "4   0     2       1  "
      ]
     },
     "execution_count": 5,
     "metadata": {},
     "output_type": "execute_result"
    }
   ],
   "source": [
    "df.head()"
   ]
  },
  {
   "cell_type": "code",
   "execution_count": 6,
   "id": "355de51b-0144-49a7-bb17-46be479e68df",
   "metadata": {},
   "outputs": [
    {
     "data": {
      "text/plain": [
       "(303, 14)"
      ]
     },
     "execution_count": 6,
     "metadata": {},
     "output_type": "execute_result"
    }
   ],
   "source": [
    "df.shape"
   ]
  },
  {
   "cell_type": "code",
   "execution_count": 7,
   "id": "fc2ef141-f701-4aeb-8d93-13bf5e78a2a7",
   "metadata": {},
   "outputs": [
    {
     "data": {
      "text/plain": [
       "age         0\n",
       "sex         0\n",
       "cp          0\n",
       "trestbps    0\n",
       "chol        0\n",
       "fbs         0\n",
       "restecg     0\n",
       "thalach     0\n",
       "exang       0\n",
       "oldpeak     0\n",
       "slope       0\n",
       "ca          0\n",
       "thal        0\n",
       "target      0\n",
       "dtype: int64"
      ]
     },
     "execution_count": 7,
     "metadata": {},
     "output_type": "execute_result"
    }
   ],
   "source": [
    "#NO NaN values\n",
    "df.isna().sum()"
   ]
  },
  {
   "cell_type": "code",
   "execution_count": 8,
   "id": "3a316604-f54c-4afc-a6d3-b098c40d4d73",
   "metadata": {},
   "outputs": [
    {
     "data": {
      "text/plain": [
       "age           int64\n",
       "sex           int64\n",
       "cp            int64\n",
       "trestbps      int64\n",
       "chol          int64\n",
       "fbs           int64\n",
       "restecg       int64\n",
       "thalach       int64\n",
       "exang         int64\n",
       "oldpeak     float64\n",
       "slope         int64\n",
       "ca            int64\n",
       "thal          int64\n",
       "target        int64\n",
       "dtype: object"
      ]
     },
     "execution_count": 8,
     "metadata": {},
     "output_type": "execute_result"
    }
   ],
   "source": [
    "df.dtypes"
   ]
  },
  {
   "cell_type": "code",
   "execution_count": 9,
   "id": "96edd346-5be4-44e3-81af-e3c4c8a89c34",
   "metadata": {},
   "outputs": [
    {
     "data": {
      "text/html": [
       "<div>\n",
       "<style scoped>\n",
       "    .dataframe tbody tr th:only-of-type {\n",
       "        vertical-align: middle;\n",
       "    }\n",
       "\n",
       "    .dataframe tbody tr th {\n",
       "        vertical-align: top;\n",
       "    }\n",
       "\n",
       "    .dataframe thead th {\n",
       "        text-align: right;\n",
       "    }\n",
       "</style>\n",
       "<table border=\"1\" class=\"dataframe\">\n",
       "  <thead>\n",
       "    <tr style=\"text-align: right;\">\n",
       "      <th></th>\n",
       "      <th>age</th>\n",
       "      <th>sex</th>\n",
       "      <th>cp</th>\n",
       "      <th>trestbps</th>\n",
       "      <th>chol</th>\n",
       "      <th>fbs</th>\n",
       "      <th>restecg</th>\n",
       "      <th>thalach</th>\n",
       "      <th>exang</th>\n",
       "      <th>oldpeak</th>\n",
       "      <th>slope</th>\n",
       "      <th>ca</th>\n",
       "      <th>thal</th>\n",
       "      <th>target</th>\n",
       "    </tr>\n",
       "  </thead>\n",
       "  <tbody>\n",
       "    <tr>\n",
       "      <th>count</th>\n",
       "      <td>303.000000</td>\n",
       "      <td>303.000000</td>\n",
       "      <td>303.000000</td>\n",
       "      <td>303.000000</td>\n",
       "      <td>303.000000</td>\n",
       "      <td>303.000000</td>\n",
       "      <td>303.000000</td>\n",
       "      <td>303.000000</td>\n",
       "      <td>303.000000</td>\n",
       "      <td>303.000000</td>\n",
       "      <td>303.000000</td>\n",
       "      <td>303.000000</td>\n",
       "      <td>303.000000</td>\n",
       "      <td>303.000000</td>\n",
       "    </tr>\n",
       "    <tr>\n",
       "      <th>mean</th>\n",
       "      <td>54.366337</td>\n",
       "      <td>0.683168</td>\n",
       "      <td>0.966997</td>\n",
       "      <td>131.623762</td>\n",
       "      <td>246.264026</td>\n",
       "      <td>0.148515</td>\n",
       "      <td>0.528053</td>\n",
       "      <td>149.646865</td>\n",
       "      <td>0.326733</td>\n",
       "      <td>1.039604</td>\n",
       "      <td>1.399340</td>\n",
       "      <td>0.729373</td>\n",
       "      <td>2.313531</td>\n",
       "      <td>0.544554</td>\n",
       "    </tr>\n",
       "    <tr>\n",
       "      <th>std</th>\n",
       "      <td>9.082101</td>\n",
       "      <td>0.466011</td>\n",
       "      <td>1.032052</td>\n",
       "      <td>17.538143</td>\n",
       "      <td>51.830751</td>\n",
       "      <td>0.356198</td>\n",
       "      <td>0.525860</td>\n",
       "      <td>22.905161</td>\n",
       "      <td>0.469794</td>\n",
       "      <td>1.161075</td>\n",
       "      <td>0.616226</td>\n",
       "      <td>1.022606</td>\n",
       "      <td>0.612277</td>\n",
       "      <td>0.498835</td>\n",
       "    </tr>\n",
       "    <tr>\n",
       "      <th>min</th>\n",
       "      <td>29.000000</td>\n",
       "      <td>0.000000</td>\n",
       "      <td>0.000000</td>\n",
       "      <td>94.000000</td>\n",
       "      <td>126.000000</td>\n",
       "      <td>0.000000</td>\n",
       "      <td>0.000000</td>\n",
       "      <td>71.000000</td>\n",
       "      <td>0.000000</td>\n",
       "      <td>0.000000</td>\n",
       "      <td>0.000000</td>\n",
       "      <td>0.000000</td>\n",
       "      <td>0.000000</td>\n",
       "      <td>0.000000</td>\n",
       "    </tr>\n",
       "    <tr>\n",
       "      <th>25%</th>\n",
       "      <td>47.500000</td>\n",
       "      <td>0.000000</td>\n",
       "      <td>0.000000</td>\n",
       "      <td>120.000000</td>\n",
       "      <td>211.000000</td>\n",
       "      <td>0.000000</td>\n",
       "      <td>0.000000</td>\n",
       "      <td>133.500000</td>\n",
       "      <td>0.000000</td>\n",
       "      <td>0.000000</td>\n",
       "      <td>1.000000</td>\n",
       "      <td>0.000000</td>\n",
       "      <td>2.000000</td>\n",
       "      <td>0.000000</td>\n",
       "    </tr>\n",
       "    <tr>\n",
       "      <th>50%</th>\n",
       "      <td>55.000000</td>\n",
       "      <td>1.000000</td>\n",
       "      <td>1.000000</td>\n",
       "      <td>130.000000</td>\n",
       "      <td>240.000000</td>\n",
       "      <td>0.000000</td>\n",
       "      <td>1.000000</td>\n",
       "      <td>153.000000</td>\n",
       "      <td>0.000000</td>\n",
       "      <td>0.800000</td>\n",
       "      <td>1.000000</td>\n",
       "      <td>0.000000</td>\n",
       "      <td>2.000000</td>\n",
       "      <td>1.000000</td>\n",
       "    </tr>\n",
       "    <tr>\n",
       "      <th>75%</th>\n",
       "      <td>61.000000</td>\n",
       "      <td>1.000000</td>\n",
       "      <td>2.000000</td>\n",
       "      <td>140.000000</td>\n",
       "      <td>274.500000</td>\n",
       "      <td>0.000000</td>\n",
       "      <td>1.000000</td>\n",
       "      <td>166.000000</td>\n",
       "      <td>1.000000</td>\n",
       "      <td>1.600000</td>\n",
       "      <td>2.000000</td>\n",
       "      <td>1.000000</td>\n",
       "      <td>3.000000</td>\n",
       "      <td>1.000000</td>\n",
       "    </tr>\n",
       "    <tr>\n",
       "      <th>max</th>\n",
       "      <td>77.000000</td>\n",
       "      <td>1.000000</td>\n",
       "      <td>3.000000</td>\n",
       "      <td>200.000000</td>\n",
       "      <td>564.000000</td>\n",
       "      <td>1.000000</td>\n",
       "      <td>2.000000</td>\n",
       "      <td>202.000000</td>\n",
       "      <td>1.000000</td>\n",
       "      <td>6.200000</td>\n",
       "      <td>2.000000</td>\n",
       "      <td>4.000000</td>\n",
       "      <td>3.000000</td>\n",
       "      <td>1.000000</td>\n",
       "    </tr>\n",
       "  </tbody>\n",
       "</table>\n",
       "</div>"
      ],
      "text/plain": [
       "              age         sex          cp    trestbps        chol         fbs  \\\n",
       "count  303.000000  303.000000  303.000000  303.000000  303.000000  303.000000   \n",
       "mean    54.366337    0.683168    0.966997  131.623762  246.264026    0.148515   \n",
       "std      9.082101    0.466011    1.032052   17.538143   51.830751    0.356198   \n",
       "min     29.000000    0.000000    0.000000   94.000000  126.000000    0.000000   \n",
       "25%     47.500000    0.000000    0.000000  120.000000  211.000000    0.000000   \n",
       "50%     55.000000    1.000000    1.000000  130.000000  240.000000    0.000000   \n",
       "75%     61.000000    1.000000    2.000000  140.000000  274.500000    0.000000   \n",
       "max     77.000000    1.000000    3.000000  200.000000  564.000000    1.000000   \n",
       "\n",
       "          restecg     thalach       exang     oldpeak       slope          ca  \\\n",
       "count  303.000000  303.000000  303.000000  303.000000  303.000000  303.000000   \n",
       "mean     0.528053  149.646865    0.326733    1.039604    1.399340    0.729373   \n",
       "std      0.525860   22.905161    0.469794    1.161075    0.616226    1.022606   \n",
       "min      0.000000   71.000000    0.000000    0.000000    0.000000    0.000000   \n",
       "25%      0.000000  133.500000    0.000000    0.000000    1.000000    0.000000   \n",
       "50%      1.000000  153.000000    0.000000    0.800000    1.000000    0.000000   \n",
       "75%      1.000000  166.000000    1.000000    1.600000    2.000000    1.000000   \n",
       "max      2.000000  202.000000    1.000000    6.200000    2.000000    4.000000   \n",
       "\n",
       "             thal      target  \n",
       "count  303.000000  303.000000  \n",
       "mean     2.313531    0.544554  \n",
       "std      0.612277    0.498835  \n",
       "min      0.000000    0.000000  \n",
       "25%      2.000000    0.000000  \n",
       "50%      2.000000    1.000000  \n",
       "75%      3.000000    1.000000  \n",
       "max      3.000000    1.000000  "
      ]
     },
     "execution_count": 9,
     "metadata": {},
     "output_type": "execute_result"
    }
   ],
   "source": [
    "df.describe(include='all')"
   ]
  },
  {
   "cell_type": "code",
   "execution_count": 10,
   "id": "70ab7416-2787-405c-8ae3-896718dcc643",
   "metadata": {},
   "outputs": [
    {
     "name": "stdout",
     "output_type": "stream",
     "text": [
      "sex [0 1]\n",
      "cp [0 1 2 3]\n",
      "fbs [0 1]\n",
      "restecg [0 1 2]\n",
      "exang [0 1]\n",
      "slope [0 1 2]\n",
      "ca [0 1 2 3 4]\n",
      "thal [0 1 2 3]\n",
      "target [0 1]\n"
     ]
    }
   ],
   "source": [
    "#unique values: actually categorical variables\n",
    "import pandas as pd\n",
    "import numpy as np\n",
    "for i in df.columns:\n",
    "    uniquevalues=pd.unique(df[i])\n",
    "    if(len(uniquevalues)<20):\n",
    "        print(i,np.sort(uniquevalues))\n",
    "#except for ca"
   ]
  },
  {
   "cell_type": "code",
   "execution_count": 11,
   "id": "0e79c5ef-7ec9-433f-bca5-c914cdece7e8",
   "metadata": {},
   "outputs": [
    {
     "name": "stdout",
     "output_type": "stream",
     "text": [
      "age [29, 77]\n",
      "trestbps [94, 200]\n",
      "chol [126, 564]\n",
      "thalach [71, 202]\n",
      "oldpeak [0.0, 6.2]\n"
     ]
    }
   ],
   "source": [
    "#unique values: actually numerical variables\n",
    "import pandas as pd\n",
    "for i in df.columns:\n",
    "    unique=pd.unique(df[i])\n",
    "    if(len(unique)>20):\n",
    "        print(i,[df[i].min(),df[i].max()])"
   ]
  },
  {
   "cell_type": "markdown",
   "id": "8c3c5364-b03f-4cb0-8461-b13b7c033286",
   "metadata": {},
   "source": [
    "## 3. Initial Thoughts"
   ]
  },
  {
   "cell_type": "markdown",
   "id": "7816a9f0-7186-436c-a909-d2761d04c556",
   "metadata": {},
   "source": [
    "- 303 entries with 14 variables - 13 of them can be predictors.\n",
    "- No missing values. :) Great!\n",
    "- All the values in the dataframe is \"numerical\" - however, 7 of the predictors are actually categorical and are encoded to integers.  \n",
    "categorical variables: sex, cp, fbs, restecg, exang, slope, thal.   \n",
    "numerical variables: age, trestbps, chol, thalach, oldpeak, ca.  \n",
    "The categorical ones should be converted into categorical variables (and then make them into dummy variables when needed for the model)."
   ]
  },
  {
   "cell_type": "markdown",
   "id": "4843844e-ff02-4dfd-8c7d-313615800aed",
   "metadata": {},
   "source": [
    "## 4. Data Wrangling"
   ]
  },
  {
   "cell_type": "code",
   "execution_count": 12,
   "id": "a76dd627-f789-4cc7-b68f-d49df5722967",
   "metadata": {},
   "outputs": [],
   "source": [
    "#for sex\n",
    "df.loc[df.sex==0, 'sex'] = \"female\"\n",
    "df.loc[df.sex==1, 'sex'] = \"male\"\n",
    "#for cp\n",
    "df.loc[df.cp==1, 'cp'] = \"typical angina\"\n",
    "df.loc[df.cp==2, 'cp'] = \"atypical angina\"\n",
    "df.loc[df.cp==3, 'cp'] = \"non-anginal pain\"\n",
    "df.loc[df.cp==4, 'cp'] = \"asymptomatic chest pain\"\n",
    "#for fbs\n",
    "df.loc[df.fbs==1,'fbs']=\"fbs greater than 120\"\n",
    "df.loc[df.fbs==0,'fbs']=\"fbs lower than 120\"\n",
    "#for restecg\n",
    "df.loc[df.restecg==0,'restecg']=\"restecg normal\"\n",
    "df.loc[df.restecg==1,'restecg']=\"ST-T wave abnormality\"\n",
    "df.loc[df.restecg==2,'restecg']=\"left ventricular hypertrophy\"\n",
    "#for exang\n",
    "df.loc[df.exang==0,'exang']=\"no exercise induced angina\"\n",
    "df.loc[df.exang==1,'exang']=\"exercise induced angina\"\n",
    "#for slope\n",
    "df.loc[df.slope==1,'slope']=\"upsloping\"\n",
    "df.loc[df.slope==2,'slope']=\"flat\"\n",
    "df.loc[df.slope==3,'slope']=\"downsloping\"\n",
    "#thal\n",
    "df.loc[df.thal==1,'thal']=\"normal thal\"\n",
    "df.loc[df.thal==2,'thal']=\"fixed defect\"\n",
    "df.loc[df.thal==3,'thal']=\"reversable defect\""
   ]
  },
  {
   "cell_type": "code",
   "execution_count": 13,
   "id": "57ef0218-1b8e-4d09-bb4c-75ade07da86a",
   "metadata": {},
   "outputs": [],
   "source": [
    "#drop the rows that thal not described(2 rows)\n",
    "#df[df.thal==0]\n",
    "df=df[df.thal!=0]"
   ]
  },
  {
   "cell_type": "code",
   "execution_count": 14,
   "id": "f3bd76f9-4724-49ca-84a1-fbc076c116de",
   "metadata": {},
   "outputs": [
    {
     "data": {
      "text/plain": [
       "['sex', 'cp', 'fbs', 'restecg', 'exang', 'slope', 'thal']"
      ]
     },
     "execution_count": 14,
     "metadata": {},
     "output_type": "execute_result"
    }
   ],
   "source": [
    "list(df.select_dtypes(include=['object']).columns)"
   ]
  },
  {
   "cell_type": "markdown",
   "id": "20870c64-5251-4e0d-93d3-9aeb0ecd264b",
   "metadata": {},
   "source": [
    "## 5. Data Visualizations and Analysis"
   ]
  },
  {
   "cell_type": "markdown",
   "id": "341f58c5-949e-4b19-b576-e2dbc2086e9e",
   "metadata": {},
   "source": [
    "## 6. Modeling"
   ]
  },
  {
   "cell_type": "markdown",
   "id": "5d28e20a-fd30-4a87-8f7a-822af3c35c49",
   "metadata": {},
   "source": [
    "### Aim:"
   ]
  },
  {
   "cell_type": "markdown",
   "id": "1380f163-e120-4472-9c76-4168504053c1",
   "metadata": {},
   "source": [
    "***For potential disease detecting purpose, we should care most about how many people that have heart disease(true=1) that found out to have heart disease(predict=1) by our prediction. That's recall for the positive(1, in sklearn) class.  \n",
    "We should focus on other performance metrics as well...***"
   ]
  },
  {
   "cell_type": "code",
   "execution_count": 15,
   "id": "b74f2825-6be1-4a18-a890-05cb2584f236",
   "metadata": {},
   "outputs": [
    {
     "data": {
      "text/html": [
       "<div>\n",
       "<style scoped>\n",
       "    .dataframe tbody tr th:only-of-type {\n",
       "        vertical-align: middle;\n",
       "    }\n",
       "\n",
       "    .dataframe tbody tr th {\n",
       "        vertical-align: top;\n",
       "    }\n",
       "\n",
       "    .dataframe thead th {\n",
       "        text-align: right;\n",
       "    }\n",
       "</style>\n",
       "<table border=\"1\" class=\"dataframe\">\n",
       "  <thead>\n",
       "    <tr style=\"text-align: right;\">\n",
       "      <th></th>\n",
       "      <th>age</th>\n",
       "      <th>trestbps</th>\n",
       "      <th>chol</th>\n",
       "      <th>thalach</th>\n",
       "      <th>oldpeak</th>\n",
       "      <th>ca</th>\n",
       "      <th>target</th>\n",
       "      <th>sex_male</th>\n",
       "      <th>cp_atypical angina</th>\n",
       "      <th>cp_non-anginal pain</th>\n",
       "      <th>cp_typical angina</th>\n",
       "      <th>fbs_fbs lower than 120</th>\n",
       "      <th>restecg_left ventricular hypertrophy</th>\n",
       "      <th>restecg_restecg normal</th>\n",
       "      <th>exang_no exercise induced angina</th>\n",
       "      <th>slope_flat</th>\n",
       "      <th>slope_upsloping</th>\n",
       "      <th>thal_normal thal</th>\n",
       "      <th>thal_reversable defect</th>\n",
       "    </tr>\n",
       "  </thead>\n",
       "  <tbody>\n",
       "    <tr>\n",
       "      <th>0</th>\n",
       "      <td>63</td>\n",
       "      <td>145</td>\n",
       "      <td>233</td>\n",
       "      <td>150</td>\n",
       "      <td>2.3</td>\n",
       "      <td>0</td>\n",
       "      <td>1</td>\n",
       "      <td>1</td>\n",
       "      <td>0</td>\n",
       "      <td>1</td>\n",
       "      <td>0</td>\n",
       "      <td>0</td>\n",
       "      <td>0</td>\n",
       "      <td>1</td>\n",
       "      <td>1</td>\n",
       "      <td>0</td>\n",
       "      <td>0</td>\n",
       "      <td>1</td>\n",
       "      <td>0</td>\n",
       "    </tr>\n",
       "    <tr>\n",
       "      <th>1</th>\n",
       "      <td>37</td>\n",
       "      <td>130</td>\n",
       "      <td>250</td>\n",
       "      <td>187</td>\n",
       "      <td>3.5</td>\n",
       "      <td>0</td>\n",
       "      <td>1</td>\n",
       "      <td>1</td>\n",
       "      <td>1</td>\n",
       "      <td>0</td>\n",
       "      <td>0</td>\n",
       "      <td>1</td>\n",
       "      <td>0</td>\n",
       "      <td>0</td>\n",
       "      <td>1</td>\n",
       "      <td>0</td>\n",
       "      <td>0</td>\n",
       "      <td>0</td>\n",
       "      <td>0</td>\n",
       "    </tr>\n",
       "    <tr>\n",
       "      <th>2</th>\n",
       "      <td>41</td>\n",
       "      <td>130</td>\n",
       "      <td>204</td>\n",
       "      <td>172</td>\n",
       "      <td>1.4</td>\n",
       "      <td>0</td>\n",
       "      <td>1</td>\n",
       "      <td>0</td>\n",
       "      <td>0</td>\n",
       "      <td>0</td>\n",
       "      <td>1</td>\n",
       "      <td>1</td>\n",
       "      <td>0</td>\n",
       "      <td>1</td>\n",
       "      <td>1</td>\n",
       "      <td>1</td>\n",
       "      <td>0</td>\n",
       "      <td>0</td>\n",
       "      <td>0</td>\n",
       "    </tr>\n",
       "    <tr>\n",
       "      <th>3</th>\n",
       "      <td>56</td>\n",
       "      <td>120</td>\n",
       "      <td>236</td>\n",
       "      <td>178</td>\n",
       "      <td>0.8</td>\n",
       "      <td>0</td>\n",
       "      <td>1</td>\n",
       "      <td>1</td>\n",
       "      <td>0</td>\n",
       "      <td>0</td>\n",
       "      <td>1</td>\n",
       "      <td>1</td>\n",
       "      <td>0</td>\n",
       "      <td>0</td>\n",
       "      <td>1</td>\n",
       "      <td>1</td>\n",
       "      <td>0</td>\n",
       "      <td>0</td>\n",
       "      <td>0</td>\n",
       "    </tr>\n",
       "    <tr>\n",
       "      <th>4</th>\n",
       "      <td>57</td>\n",
       "      <td>120</td>\n",
       "      <td>354</td>\n",
       "      <td>163</td>\n",
       "      <td>0.6</td>\n",
       "      <td>0</td>\n",
       "      <td>1</td>\n",
       "      <td>0</td>\n",
       "      <td>0</td>\n",
       "      <td>0</td>\n",
       "      <td>0</td>\n",
       "      <td>1</td>\n",
       "      <td>0</td>\n",
       "      <td>0</td>\n",
       "      <td>0</td>\n",
       "      <td>1</td>\n",
       "      <td>0</td>\n",
       "      <td>0</td>\n",
       "      <td>0</td>\n",
       "    </tr>\n",
       "  </tbody>\n",
       "</table>\n",
       "</div>"
      ],
      "text/plain": [
       "   age  trestbps  chol  thalach  oldpeak  ca  target  sex_male  \\\n",
       "0   63       145   233      150      2.3   0       1         1   \n",
       "1   37       130   250      187      3.5   0       1         1   \n",
       "2   41       130   204      172      1.4   0       1         0   \n",
       "3   56       120   236      178      0.8   0       1         1   \n",
       "4   57       120   354      163      0.6   0       1         0   \n",
       "\n",
       "   cp_atypical angina  cp_non-anginal pain  cp_typical angina  \\\n",
       "0                   0                    1                  0   \n",
       "1                   1                    0                  0   \n",
       "2                   0                    0                  1   \n",
       "3                   0                    0                  1   \n",
       "4                   0                    0                  0   \n",
       "\n",
       "   fbs_fbs lower than 120  restecg_left ventricular hypertrophy  \\\n",
       "0                       0                                     0   \n",
       "1                       1                                     0   \n",
       "2                       1                                     0   \n",
       "3                       1                                     0   \n",
       "4                       1                                     0   \n",
       "\n",
       "   restecg_restecg normal  exang_no exercise induced angina  slope_flat  \\\n",
       "0                       1                                 1           0   \n",
       "1                       0                                 1           0   \n",
       "2                       1                                 1           1   \n",
       "3                       0                                 1           1   \n",
       "4                       0                                 0           1   \n",
       "\n",
       "   slope_upsloping  thal_normal thal  thal_reversable defect  \n",
       "0                0                 1                       0  \n",
       "1                0                 0                       0  \n",
       "2                0                 0                       0  \n",
       "3                0                 0                       0  \n",
       "4                0                 0                       0  "
      ]
     },
     "execution_count": 15,
     "metadata": {},
     "output_type": "execute_result"
    }
   ],
   "source": [
    "# get dummy variables\n",
    "df = pd.get_dummies(df,drop_first=True)\n",
    "#drop_first: Whether to get k-1 dummies out of k categorical levels by removing the first level.(reduce redundant columns)\n",
    "#https://stackoverflow.com/questions/50176096/removing-redundant-columns-when-using-get-dummies\n",
    "df.head()"
   ]
  },
  {
   "cell_type": "code",
   "execution_count": 16,
   "id": "48efa31d-6cad-4f59-9a9d-947e984b1ea9",
   "metadata": {},
   "outputs": [],
   "source": [
    "#separate predictors and response variable\n",
    "train_features = df.columns.drop('target').tolist()\n",
    "X_df = df[train_features]\n",
    "y_df = df['target']\n",
    "\n",
    "# Create training and test sets\n",
    "from sklearn.model_selection import train_test_split\n",
    "X_train, X_test, y_train, y_test = train_test_split(X_df, y_df, random_state = 0)#default: test_size=0.25 \n",
    "\n",
    "#scaling\n",
    "from sklearn.preprocessing import MinMaxScaler\n",
    "scaler = MinMaxScaler()\n",
    "X_train_scaled = scaler.fit_transform(X_train) \n",
    "X_test_scaled = scaler.transform(X_test)"
   ]
  },
  {
   "cell_type": "markdown",
   "id": "6b303e39-f62e-4943-a81b-1f3ae773da58",
   "metadata": {},
   "source": [
    "### model performance on the test set function"
   ]
  },
  {
   "cell_type": "code",
   "execution_count": 17,
   "id": "31e284fb-bfda-4e5a-8493-355775ceaa3a",
   "metadata": {},
   "outputs": [],
   "source": [
    "from sklearn.metrics import roc_curve, auc, confusion_matrix, classification_report\n",
    "from sklearn.metrics import accuracy_score, precision_score, recall_score, f1_score\n",
    "import matplotlib.pyplot as plt\n",
    "\n",
    "def model_performance_testset(model, X_train, y_train, X_test, y_test, pos_label=1):#positive class label, default=1\n",
    "    \n",
    "    #predicted value\n",
    "    print(\"==================predicted values==================\")\n",
    "    y_predicted=model.predict(X_test)\n",
    "    if len(y_predicted)<20:\n",
    "        print(y_predicted)\n",
    "    else:\n",
    "        print(y_predicted[0:21])\n",
    "    \n",
    "    #4 metrics for the positive class\n",
    "    print(\"\\n=========================metrics=========================\")\n",
    "    print('Accuracy: {:.2f}'.format(accuracy_score(y_test, y_predicted)))\n",
    "    print('Precision: {:.2f}'.format(precision_score(y_test, y_predicted,pos_label=pos_label)))\n",
    "    print('Recall: {:.2f}'.format(recall_score(y_test, y_predicted,pos_label=pos_label)))\n",
    "    print('F1: {:.2f}'.format(f1_score(y_test, y_predicted,pos_label=pos_label)))\n",
    "    \n",
    "    #report(for each class)\n",
    "    print(\"\\n================classification report for each class: ===============\")\n",
    "    print(classification_report(y_test, y_predicted))\n",
    "    \n",
    "    #confusion matrix\n",
    "    print(\"\\n==================confusion matrix: ===================\")\n",
    "    confusion = confusion_matrix(y_test, y_predicted)\n",
    "    print(confusion)\n",
    "    return(\"=================finished summarization :)==================\")\n",
    "\n",
    "def model_auc(model, X_train, y_train, X_test, y_test, pos_label=1):\n",
    "    #auc\n",
    "    print(\"\\n==================auc: ===================\")\n",
    "    y_score_lr=model.fit(X_train, y_train).decision_function(X_test)\n",
    "    fpr_lr, tpr_lr, _ = roc_curve(y_test, y_score_lr)\n",
    "    auc_value = auc(fpr_lr, tpr_lr)  \n",
    "    print(\"auc={}\".format(auc_value))\n",
    "    \n",
    "    #auc plot\n",
    "    plt.figure()\n",
    "    plt.xlim([-0.01, 1.00])\n",
    "    plt.ylim([-0.01, 1.01])\n",
    "    plt.plot(fpr_lr, tpr_lr, lw=3, label='ROC curve (auc = {:0.2f})'.format(auc_value))\n",
    "    plt.xlabel('False Positive Rate', fontsize=16)\n",
    "    plt.ylabel('True Positive Rate', fontsize=16)\n",
    "    plt.title('ROC curve', fontsize=16)\n",
    "    plt.legend(loc='lower right', fontsize=13)\n",
    "    plt.plot([0, 1], [0, 1], color='navy', lw=3, linestyle='--')\n",
    "    plt.show()\n",
    "    return(\"=================finished auc :)==================\")"
   ]
  },
  {
   "cell_type": "markdown",
   "id": "f68d20fd-bb37-45d0-88ee-e18c30096683",
   "metadata": {},
   "source": [
    "### model performance on the CV set function"
   ]
  },
  {
   "cell_type": "code",
   "execution_count": 18,
   "id": "82789e1e-690c-4994-93ae-c9abba045456",
   "metadata": {},
   "outputs": [],
   "source": [
    "from sklearn.model_selection import cross_val_score\n",
    "def CV_metrics(model, X_train, y_train, cv=5):\n",
    "    #the model SHOULD NOT be fitted#\n",
    "    \n",
    "    #accuracy\n",
    "    cv_scores_accuracy = np.mean(cross_val_score(model, X_train, y_train, cv=cv))\n",
    "    print('Mean cross-validation (accuracy) (5-fold): {:.3f}\\n'.format(cv_scores_accuracy))\n",
    "    \n",
    "    #auc\n",
    "    cv_scores_accuracy = np.mean(cross_val_score(model, X_train, y_train, cv=cv, scoring = 'roc_auc'))\n",
    "    print('Mean cross-validation (auc) (5-fold): {:.3f}\\n'.format(cv_scores_accuracy))\n",
    "    \n",
    "    #recall (for 1 class)\n",
    "    cv_scores_recall = np.mean(cross_val_score(model, X_train, y_train, cv=cv, scoring = 'recall'))\n",
    "    print('Mean cross-validation (recall) (5-fold): {:.3f}\\n'.format(cv_scores_recall))\n",
    "    \n",
    "    #precision (for 1 class)\n",
    "    cv_scores_precision = np.mean(cross_val_score(model, X_train, y_train, cv=cv, scoring = 'precision'))\n",
    "    print('Mean cross-validation (precision) (5-fold): {:.3f}\\n'.format(cv_scores_precision))\n",
    "    \n",
    "    return(\"=================finished CV summarization :)==================\")"
   ]
  },
  {
   "cell_type": "markdown",
   "id": "289a8a8d-cb12-4a60-be0a-10328ead7df7",
   "metadata": {},
   "source": [
    "### (1) Logistic regression"
   ]
  },
  {
   "cell_type": "code",
   "execution_count": 28,
   "id": "b2fc2ff1-3d5b-4be3-8feb-574baa631a01",
   "metadata": {},
   "outputs": [],
   "source": [
    "from sklearn.model_selection import cross_val_score\n",
    "from sklearn.linear_model import LogisticRegression\n",
    "from sklearn.svm import SVC\n",
    "from sklearn.ensemble import RandomForestClassifier\n",
    "from sklearn.svm import SVC\n",
    "from sklearn.model_selection import GridSearchCV\n",
    "from sklearn.metrics import roc_auc_score\n",
    "from sklearn.ensemble import GradientBoostingClassifier\n",
    "from sklearn.neighbors import KNeighborsClassifier"
   ]
  },
  {
   "cell_type": "code",
   "execution_count": 126,
   "id": "44ae3a26-e48c-4905-9e0e-1be09695c77f",
   "metadata": {},
   "outputs": [
    {
     "name": "stdout",
     "output_type": "stream",
     "text": [
      "Grid best parameter (max. recall):  {'C': 0.01}\n",
      "Grid best score (recall):  0.9526153846153846\n",
      "Test set recall:  0.9473684210526315\n"
     ]
    }
   ],
   "source": [
    "#logistic: grid search for the best parameter C\n",
    "clf = LogisticRegression(max_iter=10000)\n",
    "grid_values = {'C': [0.01, 0.1, 1, 10, 50, 100]}#values\n",
    "grid_clf_acc = GridSearchCV(clf, param_grid = grid_values, scoring=\"recall\").fit(X_train_scaled, y_train)\n",
    "predict_test=grid_clf_acc.predict(X_test_scaled) #Call predict on the estimator with the best found parameters.\n",
    "print('Grid best parameter (max. recall): ', grid_clf_acc.best_params_)\n",
    "print('Grid best score (recall): ', grid_clf_acc.best_score_)\n",
    "print('Test set recall: ', recall_score(y_test, predict_test))"
   ]
  },
  {
   "cell_type": "code",
   "execution_count": 129,
   "id": "0828e688-4d18-4086-ba9e-a8f337a269b0",
   "metadata": {},
   "outputs": [
    {
     "data": {
      "text/plain": [
       "LogisticRegression(C=0.01, max_iter=10000)"
      ]
     },
     "execution_count": 129,
     "metadata": {},
     "output_type": "execute_result"
    }
   ],
   "source": [
    "logistic_clf = LogisticRegression(C=0.01,max_iter=10000)\n",
    "logistic_clf.fit(X_train_scaled,y_train)"
   ]
  },
  {
   "cell_type": "markdown",
   "id": "008b7d17-75d5-47e4-93d4-80221b6f5915",
   "metadata": {},
   "source": [
    "### (2) Random Forest"
   ]
  },
  {
   "cell_type": "code",
   "execution_count": 156,
   "id": "d7a00d4b-139f-413d-9cfa-e8a51126708e",
   "metadata": {},
   "outputs": [
    {
     "name": "stdout",
     "output_type": "stream",
     "text": [
      "Grid best parameter (max. recall):  {'max_depth': 3}\n",
      "Grid best score (recall):  0.8652307692307692\n",
      "Test set recall:  0.9473684210526315\n"
     ]
    }
   ],
   "source": [
    "randomforest_clf= RandomForestClassifier()\n",
    "grid_values = {'max_depth': [2,3,4,5,6]}\n",
    "grid_ranfor_recall = GridSearchCV(randomforest_clf, param_grid = grid_values, scoring=\"recall\").fit(X_train_scaled, y_train)\n",
    "predict_test_ranfor=grid_ranfor_recall.predict(X_test_scaled)\n",
    "print('Grid best parameter (max. recall): ', grid_ranfor_recall.best_params_)\n",
    "print('Grid best score (recall): ', grid_ranfor_recall.best_score_)\n",
    "print('Test set recall: ', recall_score(y_test, predict_test_ranfor))"
   ]
  },
  {
   "cell_type": "code",
   "execution_count": 157,
   "id": "708b5c2e-3b25-448b-8b5c-1e6ceca62ee8",
   "metadata": {},
   "outputs": [],
   "source": [
    "randomforest_clf= RandomForestClassifier(max_depth=3).fit(X_train_scaled,y_train)"
   ]
  },
  {
   "cell_type": "markdown",
   "id": "00cf5273-cfd0-4889-8f68-92292732957c",
   "metadata": {},
   "source": [
    "### (3) Gradient-boosted decision trees"
   ]
  },
  {
   "cell_type": "code",
   "execution_count": 165,
   "id": "789b7e4c-c1dd-4011-bc2e-a4436c1c0f39",
   "metadata": {},
   "outputs": [
    {
     "name": "stdout",
     "output_type": "stream",
     "text": [
      "Grid best parameter (max. recall):  {'learning_rate': 0.005, 'max_depth': 3}\n",
      "Grid best score (recall):  0.8649230769230769\n",
      "Test set recall:  0.9210526315789473\n"
     ]
    }
   ],
   "source": [
    "gbdt_clf = GradientBoostingClassifier()\n",
    "grid_values = {'learning_rate': [0.005,0.01,0.05,0.1], \n",
    "               'max_depth':[2,3,4,5,6]}\n",
    "grid_gbdt_recall = GridSearchCV(gbdt_clf, param_grid = grid_values, scoring=\"recall\").fit(X_train_scaled, y_train)\n",
    "predict_test_gbdt=grid_gbdt_recall.predict(X_test_scaled)\n",
    "print('Grid best parameter (max. recall): ', grid_gbdt_recall.best_params_)\n",
    "print('Grid best score (recall): ', grid_gbdt_recall.best_score_)\n",
    "print('Test set recall: ', recall_score(y_test, predict_test_gbdt))"
   ]
  },
  {
   "cell_type": "code",
   "execution_count": 167,
   "id": "67476db7-c974-4112-91f7-f275f0853cb5",
   "metadata": {},
   "outputs": [],
   "source": [
    "gbdt_clf = GradientBoostingClassifier(learning_rate=0.005, max_depth=3).fit(X_train_scaled,y_train)"
   ]
  },
  {
   "cell_type": "markdown",
   "id": "f6726c6e-c349-4952-a3e1-644387229ea5",
   "metadata": {},
   "source": [
    "### (4) SVM"
   ]
  },
  {
   "cell_type": "code",
   "execution_count": 22,
   "id": "06dd6ded-5f2b-44d5-a037-5b1434eacb40",
   "metadata": {},
   "outputs": [
    {
     "name": "stdout",
     "output_type": "stream",
     "text": [
      "Grid best parameter (max. recall):  {'C': 100, 'gamma': 0.001, 'kernel': 'rbf'}\n",
      "Grid best score (recall):  0.8266666666666668\n",
      "Test set recall:  0.8947368421052632\n"
     ]
    }
   ],
   "source": [
    "svm_clf = SVC()\n",
    "grid_values = {'kernel': ['rbf', 'poly'], \n",
    "               'gamma':[0.001, 1, 5, 10],\n",
    "               'C':[0.1, 1, 15, 100]}\n",
    "#grid_svm_recall = GridSearchCV(svm_clf, param_grid = grid_values, scoring=\"accuracy\").fit(X_train_scaled, y_train)\n",
    "#A bad one, predict all 1s.\n",
    "grid_svm_recall = GridSearchCV(svm_clf, param_grid = grid_values, scoring=\"recall\").fit(X_train_scaled, y_train)\n",
    "predict_test_svm=grid_svm_recall.predict(X_test_scaled)\n",
    "print('Grid best parameter (max. recall): ', grid_svm_recall.best_params_)\n",
    "print('Grid best score (recall): ', grid_svm_recall.best_score_)\n",
    "print('Test set recall: ', recall_score(y_test, predict_test_svm))"
   ]
  },
  {
   "cell_type": "code",
   "execution_count": 23,
   "id": "0c02f75c-26c1-4c3c-9b73-f3770e5ce3c4",
   "metadata": {},
   "outputs": [],
   "source": [
    "svm_clf = SVC(kernel='rbf',gamma=0.001,C=100).fit(X_train_scaled,y_train)"
   ]
  },
  {
   "cell_type": "markdown",
   "id": "fb75bdd6-a502-49e3-8baa-5d9babd697d1",
   "metadata": {},
   "source": [
    "### (5) KNN"
   ]
  },
  {
   "cell_type": "code",
   "execution_count": 32,
   "id": "dbba71b8-ca5c-4193-9e10-8698f6e20919",
   "metadata": {},
   "outputs": [
    {
     "name": "stdout",
     "output_type": "stream",
     "text": [
      "Grid best parameter (max. recall):  {'n_neighbors': 9}\n",
      "Grid best score (recall):  0.8329230769230769\n",
      "Test set recall:  0.8947368421052632\n"
     ]
    }
   ],
   "source": [
    "knn_clf = KNeighborsClassifier()\n",
    "grid_values = {'n_neighbors': [3, 5, 7, 9, 12]}\n",
    "grid_knn_recall = GridSearchCV(knn_clf, param_grid = grid_values, scoring=\"recall\").fit(X_train_scaled, y_train)#accuracy\n",
    "predict_test_knn=grid_knn_recall.predict(X_test_scaled)\n",
    "print('Grid best parameter (max. recall): ', grid_knn_recall.best_params_)\n",
    "print('Grid best score (recall): ', grid_knn_recall.best_score_)\n",
    "print('Test set recall: ', recall_score(y_test, predict_test_knn))"
   ]
  },
  {
   "cell_type": "code",
   "execution_count": 33,
   "id": "ca815e4d-b737-4236-b406-23c23f2bace5",
   "metadata": {},
   "outputs": [],
   "source": [
    "knn_clf = KNeighborsClassifier(n_neighbors=9).fit(X_train_scaled,y_train)"
   ]
  },
  {
   "cell_type": "markdown",
   "id": "99b7c009-2424-4f51-9213-0b769a541b1e",
   "metadata": {},
   "source": [
    "### (6) MLPclassifier"
   ]
  },
  {
   "cell_type": "code",
   "execution_count": 40,
   "id": "2d59f179-e9af-425b-b4ae-47c017fd5d85",
   "metadata": {},
   "outputs": [
    {
     "name": "stdout",
     "output_type": "stream",
     "text": [
      "Grid best parameter (max. recall):  {'alpha': 5.0}\n",
      "Grid best score (recall):  0.8886153846153846\n",
      "Test set recall:  0.9473684210526315\n"
     ]
    }
   ],
   "source": [
    "from sklearn.neural_network import MLPClassifier\n",
    "\n",
    "mlp_clf = MLPClassifier(hidden_layer_sizes = [500, 5], max_iter = 10000)\n",
    "grid_values = {'alpha': [0.01, 0.1, 1.0, 5.0]}\n",
    "grid_mlp_recall = GridSearchCV(mlp_clf, param_grid = grid_values, scoring=\"recall\").fit(X_train_scaled, y_train)\n",
    "predict_test_mlp=grid_mlp_recall.predict(X_test_scaled)\n",
    "print('Grid best parameter (max. recall): ', grid_mlp_recall.best_params_)\n",
    "print('Grid best score (recall): ', grid_mlp_recall.best_score_)\n",
    "print('Test set recall: ', recall_score(y_test, predict_test_mlp))"
   ]
  },
  {
   "cell_type": "code",
   "execution_count": 41,
   "id": "0c9797bc-8ba5-4769-9656-7f470f26243c",
   "metadata": {},
   "outputs": [
    {
     "data": {
      "text/plain": [
       "MLPClassifier(alpha=5, hidden_layer_sizes=[500, 5], max_iter=10000)"
      ]
     },
     "execution_count": 41,
     "metadata": {},
     "output_type": "execute_result"
    }
   ],
   "source": [
    "mlp_clf = MLPClassifier(hidden_layer_sizes = [500, 5], max_iter = 10000, alpha=5)\n",
    "mlp_clf.fit(X_train_scaled,y_train)"
   ]
  },
  {
   "cell_type": "markdown",
   "id": "e4aa777e-5436-43be-bad7-23c104dbf0ad",
   "metadata": {},
   "source": [
    "## 7. Model-selection (test set and CV)"
   ]
  },
  {
   "cell_type": "markdown",
   "id": "ac9c2251-2812-4f05-976e-7c569eb9a308",
   "metadata": {},
   "source": [
    "### (1) Logistic regression"
   ]
  },
  {
   "cell_type": "code",
   "execution_count": 145,
   "id": "c7a2e0bb-4981-4dd7-8045-39e730d6e51a",
   "metadata": {},
   "outputs": [
    {
     "name": "stdout",
     "output_type": "stream",
     "text": [
      "==================predicted values==================\n",
      "[0 1 0 0 1 0 0 1 1 1 0 1 0 1 1 1 1 1 1 1 1]\n",
      "\n",
      "=========================metrics=========================\n",
      "Accuracy: 0.78\n",
      "Precision: 0.71\n",
      "Recall: 0.95\n",
      "F1: 0.81\n",
      "\n",
      "================classification report for each class: ===============\n",
      "              precision    recall  f1-score   support\n",
      "\n",
      "           0       0.92      0.61      0.73        38\n",
      "           1       0.71      0.95      0.81        38\n",
      "\n",
      "    accuracy                           0.78        76\n",
      "   macro avg       0.81      0.78      0.77        76\n",
      "weighted avg       0.81      0.78      0.77        76\n",
      "\n",
      "\n",
      "==================confusion matrix: ===================\n",
      "[[23 15]\n",
      " [ 2 36]]\n"
     ]
    },
    {
     "data": {
      "text/plain": [
       "'=================finished summarization :)=================='"
      ]
     },
     "execution_count": 145,
     "metadata": {},
     "output_type": "execute_result"
    }
   ],
   "source": [
    "model_performance_testset(logistic_clf,X_train_scaled, y_train, X_test_scaled, y_test)"
   ]
  },
  {
   "cell_type": "code",
   "execution_count": 147,
   "id": "1ee917ed-5c21-4fc3-b56e-bd4c592019f2",
   "metadata": {},
   "outputs": [
    {
     "name": "stdout",
     "output_type": "stream",
     "text": [
      "\n",
      "==================auc: ===================\n",
      "auc=0.9106648199445984\n"
     ]
    },
    {
     "data": {
      "image/png": "[encoded data removed]",
      "text/plain": [
       "<Figure size 432x288 with 1 Axes>"
      ]
     },
     "metadata": {
      "needs_background": "light"
     },
     "output_type": "display_data"
    },
    {
     "data": {
      "text/plain": [
       "'=================finished auc :)=================='"
      ]
     },
     "execution_count": 147,
     "metadata": {},
     "output_type": "execute_result"
    }
   ],
   "source": [
    "model_auc(logistic_clf,X_train_scaled, y_train, X_test_scaled, y_test)"
   ]
  },
  {
   "cell_type": "code",
   "execution_count": 149,
   "id": "fda0741f-2940-48c4-8c8e-24e83cc505e4",
   "metadata": {},
   "outputs": [
    {
     "name": "stdout",
     "output_type": "stream",
     "text": [
      "Mean cross-validation (accuracy) (5-fold): 0.738\n",
      "\n",
      "Mean cross-validation (auc) (5-fold): 0.884\n",
      "\n",
      "Mean cross-validation (recall) (5-fold): 0.953\n",
      "\n",
      "Mean cross-validation (precision) (5-fold): 0.696\n",
      "\n"
     ]
    },
    {
     "data": {
      "text/plain": [
       "'=================finished CV summarization :)=================='"
      ]
     },
     "execution_count": 149,
     "metadata": {},
     "output_type": "execute_result"
    }
   ],
   "source": [
    "CV_metrics(LogisticRegression(C=0.01,max_iter=10000),X_train_scaled, y_train)"
   ]
  },
  {
   "cell_type": "markdown",
   "id": "f0f97e94-75b4-40d9-999a-95fe9af86414",
   "metadata": {},
   "source": [
    "### (2) Random Forest"
   ]
  },
  {
   "cell_type": "code",
   "execution_count": 158,
   "id": "8bc55477-395c-48a4-9a60-447738d3d894",
   "metadata": {},
   "outputs": [
    {
     "name": "stdout",
     "output_type": "stream",
     "text": [
      "==================predicted values==================\n",
      "[0 1 0 0 1 0 0 0 1 0 0 1 0 1 1 1 1 1 1 1 1]\n",
      "\n",
      "=========================metrics=========================\n",
      "Accuracy: 0.86\n",
      "Precision: 0.80\n",
      "Recall: 0.95\n",
      "F1: 0.87\n",
      "\n",
      "================classification report for each class: ===============\n",
      "              precision    recall  f1-score   support\n",
      "\n",
      "           0       0.94      0.76      0.84        38\n",
      "           1       0.80      0.95      0.87        38\n",
      "\n",
      "    accuracy                           0.86        76\n",
      "   macro avg       0.87      0.86      0.85        76\n",
      "weighted avg       0.87      0.86      0.85        76\n",
      "\n",
      "\n",
      "==================confusion matrix: ===================\n",
      "[[29  9]\n",
      " [ 2 36]]\n"
     ]
    },
    {
     "data": {
      "text/plain": [
       "'=================finished summarization :)=================='"
      ]
     },
     "execution_count": 158,
     "metadata": {},
     "output_type": "execute_result"
    }
   ],
   "source": [
    "model_performance_testset(randomforest_clf,X_train_scaled, y_train, X_test_scaled, y_test)"
   ]
  },
  {
   "cell_type": "code",
   "execution_count": 161,
   "id": "789eee95-1658-44b4-bd42-db5fa807e250",
   "metadata": {},
   "outputs": [
    {
     "name": "stdout",
     "output_type": "stream",
     "text": [
      "Mean cross-validation (accuracy) (5-fold): 0.804\n",
      "\n",
      "Mean cross-validation (auc) (5-fold): 0.887\n",
      "\n",
      "Mean cross-validation (recall) (5-fold): 0.881\n",
      "\n",
      "Mean cross-validation (precision) (5-fold): 0.806\n",
      "\n"
     ]
    },
    {
     "data": {
      "text/plain": [
       "'=================finished CV summarization :)=================='"
      ]
     },
     "execution_count": 161,
     "metadata": {},
     "output_type": "execute_result"
    }
   ],
   "source": [
    "CV_metrics(RandomForestClassifier(max_depth=3),X_train_scaled, y_train)"
   ]
  },
  {
   "cell_type": "markdown",
   "id": "c928428a-c227-4bc3-a63f-4593c4741279",
   "metadata": {},
   "source": [
    "### (3) Gradient-boosted decision trees"
   ]
  },
  {
   "cell_type": "code",
   "execution_count": 168,
   "id": "6f6e6eee-1f05-48ef-a8c9-e5b38f76ee10",
   "metadata": {},
   "outputs": [
    {
     "name": "stdout",
     "output_type": "stream",
     "text": [
      "==================predicted values==================\n",
      "[0 1 0 0 1 0 0 0 0 0 0 1 0 1 1 1 1 1 1 1 1]\n",
      "\n",
      "=========================metrics=========================\n",
      "Accuracy: 0.83\n",
      "Precision: 0.78\n",
      "Recall: 0.92\n",
      "F1: 0.84\n",
      "\n",
      "================classification report for each class: ===============\n",
      "              precision    recall  f1-score   support\n",
      "\n",
      "           0       0.90      0.74      0.81        38\n",
      "           1       0.78      0.92      0.84        38\n",
      "\n",
      "    accuracy                           0.83        76\n",
      "   macro avg       0.84      0.83      0.83        76\n",
      "weighted avg       0.84      0.83      0.83        76\n",
      "\n",
      "\n",
      "==================confusion matrix: ===================\n",
      "[[28 10]\n",
      " [ 3 35]]\n"
     ]
    },
    {
     "data": {
      "text/plain": [
       "'=================finished summarization :)=================='"
      ]
     },
     "execution_count": 168,
     "metadata": {},
     "output_type": "execute_result"
    }
   ],
   "source": [
    "model_performance_testset(gbdt_clf,X_train_scaled, y_train, X_test_scaled, y_test)"
   ]
  },
  {
   "cell_type": "code",
   "execution_count": 169,
   "id": "628dd18d-7e67-46d6-a414-b9f5a8d98b7e",
   "metadata": {},
   "outputs": [
    {
     "name": "stdout",
     "output_type": "stream",
     "text": [
      "Mean cross-validation (accuracy) (5-fold): 0.760\n",
      "\n",
      "Mean cross-validation (auc) (5-fold): 0.826\n",
      "\n",
      "Mean cross-validation (recall) (5-fold): 0.865\n",
      "\n",
      "Mean cross-validation (precision) (5-fold): 0.748\n",
      "\n"
     ]
    },
    {
     "data": {
      "text/plain": [
       "'=================finished CV summarization :)=================='"
      ]
     },
     "execution_count": 169,
     "metadata": {},
     "output_type": "execute_result"
    }
   ],
   "source": [
    "CV_metrics(GradientBoostingClassifier(learning_rate=0.005, max_depth=3),X_train_scaled, y_train)"
   ]
  },
  {
   "cell_type": "markdown",
   "id": "d5e62000-5c6c-4cc1-8d54-50bb2b8df370",
   "metadata": {},
   "source": [
    "### (4) SVM"
   ]
  },
  {
   "cell_type": "code",
   "execution_count": 24,
   "id": "947fea48-888d-424c-980c-2702f73bb73c",
   "metadata": {},
   "outputs": [
    {
     "name": "stdout",
     "output_type": "stream",
     "text": [
      "==================predicted values==================\n",
      "[0 1 0 0 1 0 0 1 1 1 0 1 0 1 1 1 1 1 1 1 1]\n",
      "\n",
      "=========================metrics=========================\n",
      "Accuracy: 0.83\n",
      "Precision: 0.79\n",
      "Recall: 0.89\n",
      "F1: 0.84\n",
      "\n",
      "================classification report for each class: ===============\n",
      "              precision    recall  f1-score   support\n",
      "\n",
      "           0       0.88      0.76      0.82        38\n",
      "           1       0.79      0.89      0.84        38\n",
      "\n",
      "    accuracy                           0.83        76\n",
      "   macro avg       0.83      0.83      0.83        76\n",
      "weighted avg       0.83      0.83      0.83        76\n",
      "\n",
      "\n",
      "==================confusion matrix: ===================\n",
      "[[29  9]\n",
      " [ 4 34]]\n"
     ]
    },
    {
     "data": {
      "text/plain": [
       "'=================finished summarization :)=================='"
      ]
     },
     "execution_count": 24,
     "metadata": {},
     "output_type": "execute_result"
    }
   ],
   "source": [
    "model_performance_testset(svm_clf,X_train_scaled, y_train, X_test_scaled, y_test)"
   ]
  },
  {
   "cell_type": "code",
   "execution_count": 36,
   "id": "3d549bb2-368f-4e02-b560-7715d69c147c",
   "metadata": {},
   "outputs": [
    {
     "name": "stdout",
     "output_type": "stream",
     "text": [
      "\n",
      "==================auc: ===================\n",
      "auc=0.9099722991689752\n"
     ]
    },
    {
     "data": {
      "image/png": "[encoded data removed]",
      "text/plain": [
       "<Figure size 432x288 with 1 Axes>"
      ]
     },
     "metadata": {
      "needs_background": "light"
     },
     "output_type": "display_data"
    },
    {
     "data": {
      "text/plain": [
       "'=================finished auc :)=================='"
      ]
     },
     "execution_count": 36,
     "metadata": {},
     "output_type": "execute_result"
    }
   ],
   "source": [
    "model_auc(svm_clf,X_train_scaled, y_train, X_test_scaled, y_test)"
   ]
  },
  {
   "cell_type": "code",
   "execution_count": 25,
   "id": "2074ab33-07d9-4665-b297-c2eb22603e86",
   "metadata": {},
   "outputs": [
    {
     "name": "stdout",
     "output_type": "stream",
     "text": [
      "Mean cross-validation (accuracy) (5-fold): 0.827\n",
      "\n",
      "Mean cross-validation (auc) (5-fold): 0.893\n",
      "\n",
      "Mean cross-validation (recall) (5-fold): 0.873\n",
      "\n",
      "Mean cross-validation (precision) (5-fold): 0.827\n",
      "\n"
     ]
    },
    {
     "data": {
      "text/plain": [
       "'=================finished CV summarization :)=================='"
      ]
     },
     "execution_count": 25,
     "metadata": {},
     "output_type": "execute_result"
    }
   ],
   "source": [
    "CV_metrics(SVC(kernel='rbf',gamma=0.001,C=100),X_train_scaled, y_train)"
   ]
  },
  {
   "cell_type": "markdown",
   "id": "696138f9-e831-41c9-8210-bcb7b18ad324",
   "metadata": {},
   "source": [
    "### (5) KNN"
   ]
  },
  {
   "cell_type": "code",
   "execution_count": 34,
   "id": "9897bfb5-5b9c-41e6-9729-42083f8dfb28",
   "metadata": {},
   "outputs": [
    {
     "name": "stdout",
     "output_type": "stream",
     "text": [
      "==================predicted values==================\n",
      "[0 1 0 0 1 0 0 1 1 1 0 1 0 1 1 1 1 1 1 1 1]\n",
      "\n",
      "=========================metrics=========================\n",
      "Accuracy: 0.86\n",
      "Precision: 0.83\n",
      "Recall: 0.89\n",
      "F1: 0.86\n",
      "\n",
      "================classification report for each class: ===============\n",
      "              precision    recall  f1-score   support\n",
      "\n",
      "           0       0.89      0.82      0.85        38\n",
      "           1       0.83      0.89      0.86        38\n",
      "\n",
      "    accuracy                           0.86        76\n",
      "   macro avg       0.86      0.86      0.86        76\n",
      "weighted avg       0.86      0.86      0.86        76\n",
      "\n",
      "\n",
      "==================confusion matrix: ===================\n",
      "[[31  7]\n",
      " [ 4 34]]\n"
     ]
    },
    {
     "data": {
      "text/plain": [
       "'=================finished summarization :)=================='"
      ]
     },
     "execution_count": 34,
     "metadata": {},
     "output_type": "execute_result"
    }
   ],
   "source": [
    "model_performance_testset(knn_clf,X_train_scaled, y_train, X_test_scaled, y_test)"
   ]
  },
  {
   "cell_type": "code",
   "execution_count": 38,
   "id": "c40670e5-1cc0-4494-a167-5ead37e9ae5e",
   "metadata": {},
   "outputs": [
    {
     "name": "stdout",
     "output_type": "stream",
     "text": [
      "Mean cross-validation (accuracy) (5-fold): 0.818\n",
      "\n",
      "Mean cross-validation (auc) (5-fold): 0.880\n",
      "\n",
      "Mean cross-validation (recall) (5-fold): 0.833\n",
      "\n",
      "Mean cross-validation (precision) (5-fold): 0.840\n",
      "\n"
     ]
    },
    {
     "data": {
      "text/plain": [
       "'=================finished CV summarization :)=================='"
      ]
     },
     "execution_count": 38,
     "metadata": {},
     "output_type": "execute_result"
    }
   ],
   "source": [
    "CV_metrics(KNeighborsClassifier(n_neighbors=9),X_train_scaled, y_train)"
   ]
  },
  {
   "cell_type": "markdown",
   "id": "240fa849-8500-4313-bc61-69457a3e27f5",
   "metadata": {},
   "source": [
    "### (6) MLP classifier"
   ]
  },
  {
   "cell_type": "code",
   "execution_count": 154,
   "id": "1c4dcf2e-c116-48f6-b67f-fbf2ef08e5d6",
   "metadata": {},
   "outputs": [
    {
     "name": "stdout",
     "output_type": "stream",
     "text": [
      "==================predicted values==================\n",
      "[0 1 0 0 1 0 0 1 1 1 0 1 0 1 1 1 1 1 1 1 1]\n",
      "\n",
      "=========================metrics=========================\n",
      "Accuracy: 0.83\n",
      "Precision: 0.77\n",
      "Recall: 0.95\n",
      "F1: 0.85\n",
      "\n",
      "================classification report for each class: ===============\n",
      "              precision    recall  f1-score   support\n",
      "\n",
      "           0       0.93      0.71      0.81        38\n",
      "           1       0.77      0.95      0.85        38\n",
      "\n",
      "    accuracy                           0.83        76\n",
      "   macro avg       0.85      0.83      0.83        76\n",
      "weighted avg       0.85      0.83      0.83        76\n",
      "\n",
      "\n",
      "==================confusion matrix: ===================\n",
      "[[27 11]\n",
      " [ 2 36]]\n"
     ]
    },
    {
     "data": {
      "text/plain": [
       "'=================finished summarization :)=================='"
      ]
     },
     "execution_count": 154,
     "metadata": {},
     "output_type": "execute_result"
    }
   ],
   "source": [
    "model_performance_testset(mlp_clf,X_train_scaled, y_train, X_test_scaled, y_test)"
   ]
  },
  {
   "cell_type": "code",
   "execution_count": 43,
   "id": "4210b435-6aae-4a41-b41d-e9653111dd39",
   "metadata": {},
   "outputs": [
    {
     "name": "stdout",
     "output_type": "stream",
     "text": [
      "Mean cross-validation (accuracy) (5-fold): 0.844\n",
      "\n",
      "Mean cross-validation (auc) (5-fold): 0.898\n",
      "\n",
      "Mean cross-validation (recall) (5-fold): 0.873\n",
      "\n",
      "Mean cross-validation (precision) (5-fold): 0.839\n",
      "\n"
     ]
    },
    {
     "data": {
      "text/plain": [
       "'=================finished CV summarization :)=================='"
      ]
     },
     "execution_count": 43,
     "metadata": {},
     "output_type": "execute_result"
    }
   ],
   "source": [
    "CV_metrics(MLPClassifier(hidden_layer_sizes = [500, 5], max_iter = 10000, alpha=5),X_train_scaled, y_train)"
   ]
  },
  {
   "cell_type": "markdown",
   "id": "c9766b46-264d-4a15-b482-d7ec328bcafa",
   "metadata": {},
   "source": [
    "## 8. Interpretation and visualization of the model"
   ]
  },
  {
   "cell_type": "code",
   "execution_count": 114,
   "id": "e3ea274e-ffb4-4244-820c-b2fc6fd7a3ca",
   "metadata": {},
   "outputs": [],
   "source": [
    "# #learning\n",
    "# # Case 1: default metric to optimize over grid parameters: accuracy\n",
    "# grid_clf_acc = GridSearchCV(clf, param_grid = grid_values).fit(X_train, y_train)\n",
    "# predict_test=grid_clf_acc.predict(X_test)#Call predict on the estimator with the best found parameters.\n",
    "# print('Grid best parameter (max. accuracy): ', grid_clf_acc.best_params_)\n",
    "# print('Grid best score (accuracy): ', grid_clf_acc.best_score_)\n",
    "# print('Test set accuracy: ', accuracy_score(y_test, predict_test))\n",
    "\n",
    "# print(\"\\n\")\n",
    "# # Case 2: alternative metric to optimize over grid parameters: AUC\n",
    "# grid_clf_auc = GridSearchCV(clf, param_grid = grid_values, scoring = 'roc_auc').fit(X_train, y_train)\n",
    "# #Call decision_function on the estimator with the \"best found parameters for auc\"\n",
    "# y_decision_fn_scores_auc = grid_clf_auc.decision_function(X_test) \n",
    "# print('Grid best parameter (max. AUC): ', grid_clf_auc.best_params_)\n",
    "# print('Grid best score (AUC): ', grid_clf_auc.best_score_)\n",
    "# # print('Test set AUC: ', roc_auc_score(y_test, y_decision_fn_scores_auc))"
   ]
  },
  {
   "cell_type": "code",
   "execution_count": null,
   "id": "14b27201-a074-43c8-95c7-aace58aac429",
   "metadata": {},
   "outputs": [],
   "source": []
  }
 ],
 "metadata": {
  "kernelspec": {
   "display_name": "Python 3 (ipykernel)",
   "language": "python",
   "name": "python3"
  },
  "language_info": {
   "codemirror_mode": {
    "name": "ipython",
    "version": 3
   },
   "file_extension": ".py",
   "mimetype": "text/x-python",
   "name": "python",
   "nbconvert_exporter": "python",
   "pygments_lexer": "ipython3",
   "version": "3.9.5"
  }
 },
 "nbformat": 4,
 "nbformat_minor": 5
}
